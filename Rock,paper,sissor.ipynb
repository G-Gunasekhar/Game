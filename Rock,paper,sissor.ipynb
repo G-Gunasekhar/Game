{
 "cells": [
  {
   "cell_type": "code",
   "execution_count": null,
   "metadata": {},
   "outputs": [
    {
     "name": "stdout",
     "output_type": "stream",
     "text": [
      "Enter the choice(rock,paper,sissor):sissor\n",
      "player:sissor\n",
      "computer:sissor\n",
      " It's a Tie!\n",
      "Score:\n",
      "Computer Win: 0\n",
      "Player Win: 0\n",
      "play again?(y/n)y\n",
      "Enter the choice(rock,paper,sissor):rock\n",
      "player:rock\n",
      "computer:sissor\n",
      "You Win!\n",
      "Score:\n",
      "Computer Win: 0\n",
      "Player Win: 1\n",
      "play again?(y/n)n\n",
      "Thank you for playing\n"
     ]
    }
   ],
   "source": [
    "# Importing the random variable \n",
    "\n",
    "import random\n",
    "option = (\"rock\",\"paper\",\"sissor\")\n",
    "player_score =0\n",
    "computer_score =0\n",
    "playing =True\n",
    "\n",
    "# Creat an while loop for repeat the game\n",
    "while playing:\n",
    "    player = None\n",
    "    computer=random.choice(option)\n",
    "\n",
    "    while player not in option:\n",
    "        player=input(\"Enter the choice(rock,paper,sissor):\")\n",
    "    \n",
    "    print(f\"player:{player}\")\n",
    "    print(f\"computer:{computer}\")\n",
    "    \n",
    "# Set the conditions for the game \n",
    "    if player == computer:\n",
    "        print(\" It's a Tie!\")\n",
    "        print(\"Score:\")\n",
    "        print(\"Computer Win:\",computer_score)\n",
    "        print(\"Player Win:\",player_score)\n",
    "    elif player ==\"rock\" and computer == \"sissor\":\n",
    "        print(\"You Win!\")\n",
    "        player_score +=1\n",
    "        print(\"Score:\")\n",
    "        print(\"Computer Win:\",computer_score)\n",
    "        print(\"Player Win:\",player_score)\n",
    "        \n",
    "    elif player ==\"paper\" and computer == \"rock\":\n",
    "        print(\"You Win!\") \n",
    "        player_score +=1\n",
    "        print(\"Score:\")\n",
    "        print(\"Computer Win:\",computer_score)\n",
    "        print(\"Player Win:\",player_score)\n",
    "    elif player ==\"sissor\" and computer ==\"paper\":  \n",
    "        print(\"You Win!\") \n",
    "        player_score +=1\n",
    "        print(\"Score:\")\n",
    "        print(\"Computer Win:\",computer_score)\n",
    "        print(\"Player Win:\",player_score)\n",
    "    else:\n",
    "        print(\"You Lose!\")\n",
    "        computer_score +=1\n",
    "        print(\"Score:\")\n",
    "        print(\"Computer Win:\",computer_score)\n",
    "        print(\"Player Win:\",player_score)\n",
    "        \n",
    "# Set either you want to playe again or not    \n",
    "    play_again =input(\"play again?(y/n)\").lower()\n",
    "    if not play_again == 'y':\n",
    "        playing == False\n",
    "    if  play_again == 'n':\n",
    "        playing == True\n",
    "        print(\"Thank you for playing\")\n",
    "            \n",
    "# Final step\n",
    "print(\"Thank you for playing\")   \n",
    "    \n",
    "    \n",
    "    \n",
    "    \n",
    "    "
   ]
  },
  {
   "cell_type": "code",
   "execution_count": null,
   "metadata": {},
   "outputs": [],
   "source": []
  },
  {
   "cell_type": "code",
   "execution_count": null,
   "metadata": {},
   "outputs": [],
   "source": []
  },
  {
   "cell_type": "code",
   "execution_count": null,
   "metadata": {},
   "outputs": [],
   "source": []
  }
 ],
 "metadata": {
  "kernelspec": {
   "display_name": "Python 3",
   "language": "python",
   "name": "python3"
  },
  "language_info": {
   "codemirror_mode": {
    "name": "ipython",
    "version": 3
   },
   "file_extension": ".py",
   "mimetype": "text/x-python",
   "name": "python",
   "nbconvert_exporter": "python",
   "pygments_lexer": "ipython3",
   "version": "3.8.5"
  }
 },
 "nbformat": 4,
 "nbformat_minor": 4
}
